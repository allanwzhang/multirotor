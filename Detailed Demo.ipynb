{
 "cells": [
  {
   "attachments": {},
   "cell_type": "markdown",
   "id": "d001f534",
   "metadata": {},
   "source": [
    "#### Notebook setup"
   ]
  },
  {
   "cell_type": "code",
   "execution_count": null,
   "id": "be76bd53",
   "metadata": {},
   "outputs": [],
   "source": [
    "# %pip install -e ."
   ]
  },
  {
   "cell_type": "code",
   "execution_count": null,
   "id": "5a776232",
   "metadata": {},
   "outputs": [],
   "source": [
    "%reload_ext autoreload\n",
    "%autoreload 2\n",
    "%matplotlib inline\n",
    "import time\n",
    "import warnings\n",
    "import os, sys\n",
    "from copy import deepcopy\n",
    "from types import SimpleNamespace\n",
    "from pprint import pprint as print\n",
    "\n",
    "import matplotlib.pyplot as plt\n",
    "import gym\n",
    "import numpy as np\n",
    "from tqdm.auto import tqdm, trange\n",
    "\n",
    "from multirotor.helpers import control_allocation_matrix, DataLog\n",
    "from multirotor.vehicle import MotorParams, VehicleParams, PropellerParams, SimulationParams, BatteryParams\n",
    "from multirotor.controller import (\n",
    "    PosController, VelController,\n",
    "    AttController, RateController,\n",
    "    AltController, AltRateController,\n",
    "    Controller\n",
    ")\n",
    "from multirotor.simulation import Multirotor, Propeller, Motor, Battery\n",
    "from multirotor.coords import body_to_inertial, inertial_to_body, direction_cosine_matrix, euler_to_angular_rate\n",
    "from multirotor.env import SpeedsMultirotorEnv, DynamicsMultirotorEnv\n",
    "from multirotor.trajectories import Trajectory\n",
    "from multirotor.visualize import plot_datalog"
   ]
  },
  {
   "cell_type": "code",
   "execution_count": null,
   "id": "7375848f",
   "metadata": {},
   "outputs": [],
   "source": [
    "import logging\n",
    "\n",
    "logging.getLogger('numba').setLevel(logging.WARNING)\n",
    "logging.getLogger('matplotlib.font_manager').disabled = True"
   ]
  },
  {
   "cell_type": "code",
   "execution_count": null,
   "id": "421b284b",
   "metadata": {},
   "outputs": [],
   "source": [
    "# Plotting/display parameters\n",
    "# https://stackoverflow.com/a/21009774/4591810\n",
    "float_formatter = \"{:.3f}\".format\n",
    "np.set_printoptions(formatter={'float_kind':float_formatter})\n",
    "\n",
    "SMALL_SIZE = 16\n",
    "MEDIUM_SIZE = 16\n",
    "BIGGER_SIZE = 20\n",
    "\n",
    "plt.rc('font', size=SMALL_SIZE)          # controls default text sizes\n",
    "plt.rc('axes', titlesize=MEDIUM_SIZE)     # fontsize of the axes title\n",
    "plt.rc('axes', labelsize=BIGGER_SIZE, titlesize=BIGGER_SIZE)    # fontsize of the x and y labels\n",
    "plt.rc('xtick', labelsize=MEDIUM_SIZE)    # fontsize of the tick labels\n",
    "plt.rc('ytick', labelsize=MEDIUM_SIZE)    # fontsize of the tick labels\n",
    "plt.rc('legend', fontsize=SMALL_SIZE)    # legend fontsize\n",
    "plt.rc('figure', titlesize=BIGGER_SIZE)  # fontsize of the figure title\n"
   ]
  },
  {
   "attachments": {},
   "cell_type": "markdown",
   "id": "9a31149f",
   "metadata": {
    "heading_collapsed": true
   },
   "source": [
    "### Parameters"
   ]
  },
  {
   "cell_type": "code",
   "execution_count": null,
   "id": "1ba2a2fe",
   "metadata": {
    "hidden": true,
    "scrolled": false
   },
   "outputs": [],
   "source": [
    "# Tarot T18 params\n",
    "bp = BatteryParams(max_voltage=22.2)\n",
    "mp = MotorParams(\n",
    "    moment_of_inertia=5e-5,\n",
    "    # resistance=0.27,\n",
    "    resistance=0.081,\n",
    "    k_emf=0.0265,\n",
    "    # k_motor=0.0932,\n",
    "    speed_voltage_scaling= 0.0347,\n",
    "    max_current=38.\n",
    ")\n",
    "pp = PropellerParams(\n",
    "    moment_of_inertia=1.86e-6,\n",
    "    use_thrust_constant=True,\n",
    "    k_thrust=9.8419e-05, # 18-inch propeller\n",
    "    # k_thrust=5.28847e-05, # 15 inch propeller\n",
    "    k_drag=1.8503e-06, # 18-inch propeller\n",
    "    # k_drag=1.34545e-06, # 15-inch propeller\n",
    "    motor=mp #try motor = none\n",
    ")\n",
    "vp = VehicleParams(\n",
    "    propellers=[pp] * 8,\n",
    "    battery=bp,\n",
    "    # angles in 45 deg increments, rotated to align with\n",
    "    # model setup in gazebo sim (not part of this repo)\n",
    "    #originally was 0.375\n",
    "    # angles=np.linspace(0, -2*np.pi, num=8, endpoint=False) + 0.5*np.pi,\n",
    "    angles=np.array([0.5, 1.5, 0.25, 1.75, 0.75, 1.25, 1, 0])*np.pi,\n",
    "    distances=np.ones(8) * 0.635,\n",
    "    # clockwise=[-1,1,-1,1,-1,1,-1,1],\n",
    "    # clockwise=[1,-1,1,-1,1,-1,1,-1],\n",
    "    clockwise=[1,1,-1,-1,-1,-1,1,1],\n",
    "    mass=10.66,\n",
    "    inertia_matrix=np.asarray([\n",
    "        [0.2206, 0, 0],\n",
    "        [0, 0.2206, 0.],\n",
    "        [0, 0, 0.4238]\n",
    "    ])\n",
    ")\n",
    "sp = SimulationParams(dt=0.0025, g=9.81)"
   ]
  },
  {
   "attachments": {},
   "cell_type": "markdown",
   "id": "48866609",
   "metadata": {
    "heading_collapsed": true
   },
   "source": [
    "### Multirotor"
   ]
  },
  {
   "attachments": {},
   "cell_type": "markdown",
   "id": "17f3b34d",
   "metadata": {
    "hidden": true
   },
   "source": [
    "Simulating individual components of the multirotor. These make up the final `Multirotor` object."
   ]
  },
  {
   "attachments": {},
   "cell_type": "markdown",
   "id": "0505e4f6",
   "metadata": {
    "heading_collapsed": true,
    "hidden": true
   },
   "source": [
    "#### Motor"
   ]
  },
  {
   "cell_type": "code",
   "execution_count": null,
   "id": "b3128c10",
   "metadata": {
    "hidden": true
   },
   "outputs": [],
   "source": [
    "%matplotlib inline\n",
    "# Plot motor speeds as a function of time and input voltage signal\n",
    "plt.figure(figsize=(8,8))\n",
    "motor = Motor(mp, sp)\n",
    "for vsignal in [2, 4, 6, 8, 10, 12, 14, 16, 18, 20]:\n",
    "    speeds = []\n",
    "    motor.reset()\n",
    "    speed = vsignal / mp.speed_voltage_scaling\n",
    "    for i in range(200):\n",
    "        speeds.append(motor.step(speed))\n",
    "    plt.plot(speeds, label='%d rad/s' % speed)\n",
    "plt.legend(ncol=2)\n",
    "plt.ylabel('Speed rad/s')\n",
    "plt.xlabel('Time /ms')"
   ]
  },
  {
   "attachments": {},
   "cell_type": "markdown",
   "id": "f3ddb119",
   "metadata": {
    "hidden": true
   },
   "source": [
    "Learning a linear relationship for the equation $V = k_{scaling} * speed$ for motors. This is useful for `SpeedsMultirotorEnv` which takes speed signals as the input. This constant converts speeds to applied voltages. The default value in`MotorParams` is 1, meaning the actions are voltage signals."
   ]
  },
  {
   "cell_type": "code",
   "execution_count": null,
   "id": "42ebfb97",
   "metadata": {
    "hidden": true
   },
   "outputs": [],
   "source": [
    "from multirotor.helpers import learn_speed_voltage_scaling\n",
    "\n",
    "def make_motor_fn(params, sp):\n",
    "    from copy import deepcopy\n",
    "    params = deepcopy(params)\n",
    "    params.speed_voltage_scaling = 1.\n",
    "    def motor_step(signal):\n",
    "        m = Motor(params, sp)\n",
    "        for i in range(100):\n",
    "            s = m.step(signal)\n",
    "        return s\n",
    "    return motor_step\n",
    "\n",
    "print('Voltage = %.5f * speed' % (learn_speed_voltage_scaling(make_motor_fn(mp, sp))))"
   ]
  },
  {
   "attachments": {},
   "cell_type": "markdown",
   "id": "8d42fff7",
   "metadata": {
    "heading_collapsed": true,
    "hidden": true
   },
   "source": [
    "#### Propeller"
   ]
  },
  {
   "attachments": {},
   "cell_type": "markdown",
   "id": "6fb2f5c9",
   "metadata": {
    "hidden": true
   },
   "source": [
    "The propeller can use a numerically solved thrust relationship, where thrust depends on airspeed. Or the easier option of using thrust coefficient is available."
   ]
  },
  {
   "cell_type": "code",
   "execution_count": null,
   "id": "1669687b",
   "metadata": {
    "hidden": true
   },
   "outputs": [],
   "source": [
    "%matplotlib inline\n",
    "# Plot propeller speed by numerically solving the thrust equation,\n",
    "# *if* accurate propeller measurements are given in params\n",
    "pp_ = deepcopy(pp)\n",
    "pp_.use_thrust_constant = False # Set to true to just use k_thrust\n",
    "prop = Propeller(pp_, sp)\n",
    "plt.figure(figsize=(8,8))\n",
    "speeds = np.linspace(0, 600, num=100)\n",
    "for a in np.linspace(0, 10, 10, endpoint=False):\n",
    "    thrusts = []\n",
    "    for s in speeds:\n",
    "        thrusts.append(prop.thrust(s, np.asarray([0, 0, a])))\n",
    "    plt.plot(speeds, thrusts, label='%.1f m/s' % a)\n",
    "plt.xlabel('Speed rad/s')\n",
    "plt.ylabel('Thrust /N')\n",
    "plt.title('Thrust with airspeed')\n",
    "plt.legend(ncol=2)"
   ]
  },
  {
   "attachments": {},
   "cell_type": "markdown",
   "id": "e7bb489d",
   "metadata": {
    "heading_collapsed": true,
    "hidden": true
   },
   "source": [
    "#### Vehicle"
   ]
  },
  {
   "attachments": {},
   "cell_type": "markdown",
   "id": "2936761d",
   "metadata": {
    "hidden": true
   },
   "source": [
    "Create a `Multirotor` object, given `VehicleParams` and `SimulationParams`"
   ]
  },
  {
   "cell_type": "code",
   "execution_count": null,
   "id": "ecc23e14",
   "metadata": {
    "hidden": true
   },
   "outputs": [],
   "source": [
    "# Combine propeller/motor/vehicle to get vehicle.\n",
    "# Take off simulation\n",
    "m = Multirotor(vp, sp)\n",
    "log = DataLog(vehicle=m) # convenient logging class\n",
    "m.reset()\n",
    "m.state *= 0 # set to zero, reset() sets random values\n",
    "action = m.allocate_control( # In this case action is allocated speed signals\n",
    "    thrust=m.weight * 1.1,\n",
    "    torques=np.asarray([0, 0, 0])\n",
    ")\n",
    "for i in range(500):\n",
    "    m.step_speeds(action)\n",
    "    log.log()\n",
    "log.done_logging()\n",
    "plt.plot(log.z)"
   ]
  },
  {
   "attachments": {},
   "cell_type": "markdown",
   "id": "90475ed5",
   "metadata": {},
   "source": [
    "### Gym Environment"
   ]
  },
  {
   "cell_type": "code",
   "execution_count": null,
   "id": "857201b9",
   "metadata": {},
   "outputs": [],
   "source": [
    "# this env takes the vector of [force_x, force_y, force_z, torque_x, torque_y, torque_z] to move\n",
    "# the multirotor\n",
    "env = DynamicsMultirotorEnv(Multirotor(vp, sp), max_rads=600)\n",
    "env.reset()\n",
    "log = DataLog(vehicle=env.vehicle)\n",
    "for _ in range(100):\n",
    "    env.step(np.asarray([0,0,env.vehicle.weight * 1.2, 0,0,0]))\n",
    "    log.log()\n",
    "log.done_logging()\n",
    "plt.plot(log.z)"
   ]
  },
  {
   "cell_type": "code",
   "execution_count": null,
   "id": "014b7077",
   "metadata": {},
   "outputs": [],
   "source": [
    "# this env takes the vector of speed signals to move\n",
    "# the multirotor\n",
    "env = SpeedsMultirotorEnv(Multirotor(vp, sp))\n",
    "env.reset()\n",
    "log = DataLog(vehicle=env.vehicle)\n",
    "for _ in range(100):\n",
    "    env.step(np.ones(8) * 400)\n",
    "    log.log()\n",
    "log.done_logging()\n",
    "plt.plot(log.z)"
   ]
  },
  {
   "attachments": {},
   "cell_type": "markdown",
   "id": "2c6535f4",
   "metadata": {
    "heading_collapsed": true
   },
   "source": [
    "### PID Controller"
   ]
  },
  {
   "attachments": {},
   "cell_type": "markdown",
   "id": "37d265bb",
   "metadata": {
    "hidden": true
   },
   "source": [
    "This section explains how a PID controller is constructed. This is a cascaded PID architecture. See `Controller` docs\n",
    "for more details."
   ]
  },
  {
   "cell_type": "code",
   "execution_count": null,
   "id": "33984887",
   "metadata": {
    "hidden": true
   },
   "outputs": [],
   "source": [
    "# From PID parameters file\n",
    "def get_controller(m: Multirotor, max_velocity=5., max_acceleration=3.):\n",
    "    assert m.simulation.dt <= 0.1, 'Simulation time step too large.'\n",
    "    pos = PosController(\n",
    "        1.0, 0., 0., 1., vehicle=m,\n",
    "        max_velocity=max_velocity, max_acceleration=max_acceleration,\n",
    "        square_root_scaling=False, leashing=False\n",
    "    )\n",
    "    vel = VelController(\n",
    "        2.0, 1.0, 0.5,\n",
    "        max_err_i=max_acceleration,\n",
    "        max_tilt=np.pi/12,\n",
    "        vehicle=m)\n",
    "    att = AttController(\n",
    "        [2.6875, 4.5, 4.5],\n",
    "        0, 0.,\n",
    "        max_err_i=1.,\n",
    "        vehicle=m)\n",
    "    rat = RateController(\n",
    "        [4., 4., 4.],\n",
    "        0, 0,\n",
    "        max_err_i=0.5,\n",
    "        max_acceleration=1.,\n",
    "        vehicle=m)\n",
    "    alt = AltController(\n",
    "        1, 0, 0,\n",
    "        max_err_i=1, vehicle=m,\n",
    "        max_velocity=max_velocity)\n",
    "    alt_rate = AltRateController(\n",
    "        5, 0, 0,\n",
    "        max_err_i=1, vehicle=m)\n",
    "    ctrl = Controller(\n",
    "        pos, vel, att, rat, alt, alt_rate,\n",
    "        period_p=0.1, period_a=0.01, period_z=0.1\n",
    "    )\n",
    "    return ctrl"
   ]
  },
  {
   "cell_type": "code",
   "execution_count": null,
   "id": "d21d73fe",
   "metadata": {
    "hidden": true
   },
   "outputs": [],
   "source": [
    "%matplotlib inline\n",
    "m = Multirotor(vp, sp)\n",
    "ctrl = get_controller(m)\n",
    "log = DataLog(vehicle=m, controller=ctrl)\n",
    "for i in range(500):\n",
    "    action = ctrl.step((0.01,0.1,1,0))\n",
    "    # no allocation or motor simulation, for which we first need to\n",
    "    # m.step_speeds(m.allocate_control(action[0], action[3:])\n",
    "    # Instead, requested dynamics are fulfilled:\n",
    "    dynamics = np.zeros(6, m.dtype)\n",
    "    dynamics[2] = action[0]\n",
    "    dynamics[3:] = action[1:]\n",
    "    m.step_dynamics(dynamics)\n",
    "    log.log()\n",
    "log.done_logging()\n",
    "\n",
    "plt.plot(log.actions[:,0], ls=':', label='thrust')\n",
    "lines = plt.gca().lines\n",
    "plt.twinx()\n",
    "for s, axis in zip(log.actions.T[1:], ('x','y','z')):\n",
    "    plt.plot(s, label=axis + '-torque')\n",
    "plt.legend(handles=plt.gca().lines + lines)"
   ]
  },
  {
   "attachments": {},
   "cell_type": "markdown",
   "id": "cfbc9c25",
   "metadata": {
    "heading_collapsed": true,
    "hidden": true
   },
   "source": [
    "#### Attitude Angle Controller"
   ]
  },
  {
   "cell_type": "code",
   "execution_count": null,
   "id": "f012e1f8",
   "metadata": {
    "hidden": true
   },
   "outputs": [],
   "source": [
    "m = Multirotor(vp, sp)\n",
    "fz = m.weight\n",
    "ctrl = get_controller(m)\n",
    "att =  ctrl.ctrl_a\n",
    "log = DataLog(vehicle=m, controller=ctrl, other_vars=('err',))\n",
    "for i in range(5000):\n",
    "    ref = np.asarray([np.pi/18, 0, 0])\n",
    "    # action is prescribed euler rate\n",
    "    action = att.step(ref, m.orientation, dt=sp.dt)\n",
    "    # action = np.clip(action, a_min=-0.1, a_max=0.1)\n",
    "    m.step_dynamics(np.asarray([0, 0, 0, *action]))\n",
    "    log.log(err=att.err_p[0])\n",
    "    log._actions[-1] = action\n",
    "log.done_logging()\n",
    "\n",
    "plt.plot(log.roll * 180 / np.pi)\n",
    "plt.twinx()\n",
    "plt.plot(log.actions[:,0], ls=':', label='Rate rad/s')"
   ]
  },
  {
   "attachments": {},
   "cell_type": "markdown",
   "id": "fdbd88c1",
   "metadata": {
    "heading_collapsed": true,
    "hidden": true
   },
   "source": [
    "#### Attitude Rate Controller"
   ]
  },
  {
   "cell_type": "code",
   "execution_count": null,
   "id": "9cc3b317",
   "metadata": {
    "hidden": true
   },
   "outputs": [],
   "source": [
    "m = Multirotor(vp, sp)\n",
    "fz = m.weight\n",
    "ctrl = get_controller(m)\n",
    "rat = ctrl.ctrl_r\n",
    "att = ctrl.ctrl_a\n",
    "log = DataLog(vehicle=m, controller=ctrl, other_vars=('err',))\n",
    "for i in range(200):\n",
    "    ref = np.asarray([np.pi/18, np.pi/12, 0])\n",
    "    rate = att.step(ref, m.orientation, m.simulation.dt)\n",
    "    torque = rat.step(rate, m.euler_rate, m.simulation.dt)\n",
    "    action = np.clip(torque, a_min=-0.1, a_max=0.1)\n",
    "    m.step_dynamics(np.asarray([0, 0, 0, *action]))\n",
    "    log.log(err=rat.err_p[0])\n",
    "    log._actions[-1] = action\n",
    "log.done_logging()\n",
    "\n",
    "plt.plot(log.roll * 180 / np.pi, c='r', label='roll')\n",
    "plt.plot(log.pitch * 180 / np.pi, c='g', label='pitch')\n",
    "plt.plot(log.yaw * 180 / np.pi, c='b', label='yaw')\n",
    "plt.ylabel('Orientation /deg')\n",
    "plt.legend()\n",
    "plt.twinx()\n",
    "plt.plot(log.actions[:,0], ls=':', c='r')\n",
    "plt.plot(log.actions[:,1], ls=':', c='g')\n",
    "plt.plot(log.actions[:,2], ls=':', c='b')\n",
    "plt.ylabel('Torque / Nm')\n",
    "plt.title('Ref orientation' + str(ref))"
   ]
  },
  {
   "attachments": {},
   "cell_type": "markdown",
   "id": "6370aa80",
   "metadata": {
    "heading_collapsed": true,
    "hidden": true
   },
   "source": [
    "#### Altitude Controller"
   ]
  },
  {
   "cell_type": "code",
   "execution_count": null,
   "id": "5fcd0d24",
   "metadata": {
    "hidden": true
   },
   "outputs": [],
   "source": [
    "m = Multirotor(vp, sp)\n",
    "ctrl = get_controller(m)\n",
    "alt = ctrl.ctrl_z\n",
    "alt_rate = ctrl.ctrl_vz\n",
    "log = DataLog(vehicle=m, other_vars=('thrust',))\n",
    "for i in range(5000):\n",
    "    ref = np.asarray([1.])\n",
    "    rate = alt.step(ref, m.position[2:], dt=0.1)\n",
    "    action = alt_rate.step(rate, m.inertial_velocity[2:], dt=0.1)\n",
    "    action = np.clip(action, a_min=-2*m.weight, a_max=2*m.weight)\n",
    "    m.step_dynamics(np.asarray([0, 0, action[0], 0,0,0]))\n",
    "    log.log(thrust=action)\n",
    "    #log._actions[-1] = action\n",
    "log.done_logging()\n",
    "\n",
    "l = plt.plot(log.thrust.squeeze(), label='Thrust')\n",
    "plt.twinx()\n",
    "plt.plot(log.z, ls=':', label='Altitude /m')\n",
    "plt.legend(handles=l+plt.gca().lines)"
   ]
  },
  {
   "attachments": {},
   "cell_type": "markdown",
   "id": "f4278c17",
   "metadata": {
    "hidden": true
   },
   "source": [
    "#### Position Controller"
   ]
  },
  {
   "cell_type": "code",
   "execution_count": null,
   "id": "91ae8919",
   "metadata": {
    "hidden": true
   },
   "outputs": [],
   "source": [
    "m = Multirotor(vp, sp)\n",
    "ctrl = get_controller(m)\n",
    "pos = ctrl.ctrl_p\n",
    "vel = ctrl.ctrl_v\n",
    "rat = ctrl.ctrl_r\n",
    "att = ctrl.ctrl_a\n",
    "log = DataLog(vehicle=m, other_vars=('err', 'torques'))\n",
    "for i in range(100):\n",
    "    ref = np.asarray([1.,0.])\n",
    "    \n",
    "    # converting position -> velocity -> angles\n",
    "    velocity = pos.step(ref, m.position[:2], dt=0.1)\n",
    "    angles = vel.step(velocity, m.velocity[:2], dt=0.1)[::-1]\n",
    "    # attitude controller operates at higher frequency\n",
    "    rate = att.step(np.asarray([*angles, 0]), m.orientation, dt=0.01)\n",
    "    action = rat.step(rate, m.euler_rate, dt=0.01)\n",
    "    # clipping torques to prevent over-reactions\n",
    "    action = np.clip(action, a_min=-0.1, a_max=0.1)\n",
    "    m.step_dynamics(np.asarray([0, 0, m.weight, *action]))\n",
    "    log.log(err=pos.err[0], torques=action)\n",
    "log.done_logging()\n",
    "\n",
    "plt.plot(log.x, label='x')\n",
    "plt.plot(log.err, label='x-err')\n",
    "plt.ylabel('x /m')\n",
    "l = plt.gca().lines\n",
    "plt.twinx()\n",
    "plt.plot(log.torques[:,1], ls=':', label='y-torque', c='c')\n",
    "plt.plot(log.pitch * 180 / np.pi, ls='-.', label='Pitch', c='m')\n",
    "plt.legend(handles=plt.gca().lines+l)\n",
    "# plt.plot(log.actions[:,0] * 180 / np.pi, ls=':')"
   ]
  },
  {
   "attachments": {},
   "cell_type": "markdown",
   "id": "565cf2c9",
   "metadata": {},
   "source": [
    "### Parameter search"
   ]
  },
  {
   "attachments": {},
   "cell_type": "markdown",
   "id": "dc8f3d0d",
   "metadata": {},
   "source": [
    "Using `optuna` to search over the space of PID controller parameters."
   ]
  },
  {
   "cell_type": "code",
   "execution_count": null,
   "id": "607c8b66",
   "metadata": {},
   "outputs": [],
   "source": [
    "from multirotor.optimize import optimize, DEFAULTS\n",
    "print(DEFAULTS)"
   ]
  },
  {
   "cell_type": "code",
   "execution_count": null,
   "id": "f3b82f8d",
   "metadata": {
    "scrolled": false
   },
   "outputs": [],
   "source": [
    "# search over parameter space\n",
    "study = optimize(vp, sp, ntrials=100)"
   ]
  },
  {
   "cell_type": "code",
   "execution_count": null,
   "id": "c1a374a6",
   "metadata": {},
   "outputs": [],
   "source": [
    "# # apply best parameters from study to controller, and run a simulation\n",
    "# from multirotor.optimize import run_sim, apply_params\n",
    "\n",
    "# env = DynamicsMultirotorEnv(Multirotor(vp, sp))\n",
    "# traj = Trajectory(env.vehicle, [[0,0,0]], proximity=1)\n",
    "# ctrl = get_controller(env.vehicle)\n",
    "ctrl.set_params(**apply_params(None, params=study.best_params))\n",
    "\n",
    "# env.reset()\n",
    "# ctrl.reset()\n",
    "# log = run_sim(env, traj, ctrl)\n",
    "# plot_datalog(log)"
   ]
  },
  {
   "attachments": {},
   "cell_type": "markdown",
   "id": "9eb34672",
   "metadata": {},
   "source": [
    "### Simulation"
   ]
  },
  {
   "attachments": {},
   "cell_type": "markdown",
   "id": "e17df085",
   "metadata": {},
   "source": [
    "Combining `Multiotor` and `Controller` to run a simulation. First, defining waypoints:"
   ]
  },
  {
   "cell_type": "code",
   "execution_count": null,
   "id": "b60ef8d3",
   "metadata": {},
   "outputs": [],
   "source": [
    "# NASA flight test\n",
    "# wp = np.asarray([\n",
    "#     [0.0, 0.0, 30.0],\n",
    "#     [164.0146725649829, -0.019177722744643688, 30.0],\n",
    "#     [165.6418055187678, 111.5351051245816, 30.0],\n",
    "#     [127.3337449710234, 165.73576059611514, 30.0],\n",
    "#     [-187.28170707810204, 170.33217775914818, 45.0],\n",
    "#     [-192.03130502498243, 106.30660058604553, 45.0],\n",
    "#     [115.89920266153058, 100.8644210617058, 30.0],\n",
    "#     [114.81859536317643, 26.80923518165946, 30.0],\n",
    "#     [-21.459931490011513, 32.60508110653609, 30.0]\n",
    "# ])\n",
    "# wp = np.asarray([\n",
    "#     [0,10,0],\n",
    "#     [10,10,0],\n",
    "#     [10,0,0],\n",
    "#     [0,0,0]\n",
    "# ])\n",
    "wp = np.asarray([\n",
    "    [0, 0, 0],\n",
    "    [0, 0, 10]\n",
    "])"
   ]
  },
  {
   "attachments": {},
   "cell_type": "markdown",
   "id": "b43dae3d",
   "metadata": {},
   "source": [
    "Then, defining a disturbance (for example, wind). The disturabance function takes time, `Multirotor`, and returns the forces in the *body frame* of the vehicle."
   ]
  },
  {
   "cell_type": "code",
   "execution_count": null,
   "id": "f5f52df4",
   "metadata": {},
   "outputs": [],
   "source": [
    "def wind(t, m):\n",
    "    w_inertial = np.asarray([5 * np.sin(t * 2 * np.pi / 4000), 0, 0])\n",
    "    dcm = direction_cosine_matrix(*m.orientation)\n",
    "    return inertial_to_body(w_inertial, dcm)"
   ]
  },
  {
   "cell_type": "code",
   "execution_count": null,
   "id": "a98de44f",
   "metadata": {
    "scrolled": false
   },
   "outputs": [],
   "source": [
    "# Defining the run simulation function which illustrates all the\n",
    "# steps that go into each step of the simulation.\n",
    "# \n",
    "def run_sim(env, traj, ctrl, steps=60_000, disturbance=None):\n",
    "\n",
    "    log = DataLog(env.vehicle, ctrl,\n",
    "                  other_vars=('currents', 'voltages'))\n",
    "\n",
    "    disturb_force, disturb_torque = 0., 0\n",
    "    for i, (pos, feed_forward_vel) in tqdm(\n",
    "        enumerate(traj), leave=False, total=steps\n",
    "    ):\n",
    "        if i==steps: break\n",
    "        # Generate reference for controller\n",
    "        ref = np.asarray([*pos, 0.])\n",
    "        # Get prescribed dynamics for system as thrust and torques\n",
    "        dynamics = ctrl.step(ref, feed_forward_velocity=feed_forward_vel)\n",
    "        thrust, torques = dynamics[0], dynamics[1:]\n",
    "        # Allocate control: Convert dynamics into motor rad/s\n",
    "        action = env.vehicle.allocate_control(thrust, torques)\n",
    "        # get any disturbances\n",
    "        if disturbance is not None:\n",
    "            disturb_force, disturb_torque = disturbance(i, env.vehicle)\n",
    "        # Send speeds to environment\n",
    "        state, *_ = env.step(\n",
    "            action, disturb_forces=disturb_force, disturb_torques=disturb_torque\n",
    "        )\n",
    "        alloc_errs = np.asarray([thrust, *torques]) - env.vehicle.alloc @ action**2\n",
    "\n",
    "        log.log(currents=[p.motor.current for p in env.vehicle.propellers],\n",
    "                voltages=[p.motor.voltage for p in env.vehicle.propellers])\n",
    "\n",
    "        if np.any(np.abs(env.vehicle.orientation[:2]) > np.pi/6): break\n",
    "\n",
    "    log.done_logging()\n",
    "    return log"
   ]
  },
  {
   "cell_type": "code",
   "execution_count": null,
   "id": "62689b31",
   "metadata": {},
   "outputs": [],
   "source": [
    "env = SpeedsMultirotorEnv(vehicle=Multirotor(vp, sp)) # step() takes speed signals\n",
    "traj = Trajectory(env.vehicle, wp, proximity=2, resolution=10)\n",
    "ctrl = get_controller(env.vehicle, max_velocity=3.)\n",
    "env.reset()\n",
    "ctrl.reset()\n",
    "log = run_sim(env, traj, ctrl, steps=60_000, disturbance=None)"
   ]
  },
  {
   "cell_type": "code",
   "execution_count": null,
   "id": "2d1b0058",
   "metadata": {
    "scrolled": false
   },
   "outputs": [],
   "source": [
    "# Currents\n",
    "plt.plot(log.currents, ls=':')\n",
    "plt.ylabel('Motor current /A')\n",
    "plt.title('Individual motor currents')\n",
    "plt.xlabel('Time /ms')"
   ]
  },
  {
   "cell_type": "code",
   "execution_count": null,
   "id": "f0aa49e1",
   "metadata": {
    "scrolled": false
   },
   "outputs": [],
   "source": [
    "# Voltages\n",
    "plt.plot(log.voltages, ls=':')\n",
    "plt.ylim(0, 30)\n",
    "plt.ylabel('Motor voltage /A')\n",
    "plt.xlabel('Time /ms')\n",
    "plt.title('Voltages')"
   ]
  },
  {
   "cell_type": "code",
   "execution_count": null,
   "id": "665f4799",
   "metadata": {},
   "outputs": [],
   "source": [
    "# PLot positions, velocities, prescribed dynamics\n",
    "plot_datalog(log)"
   ]
  },
  {
   "cell_type": "code",
   "execution_count": null,
   "id": "c4ae5240",
   "metadata": {},
   "outputs": [],
   "source": [
    "plot_datalog(log, plots=('pos', 'vel'))"
   ]
  },
  {
   "cell_type": "code",
   "execution_count": null,
   "id": "d9d99572",
   "metadata": {},
   "outputs": [],
   "source": [
    "# 3D plot of trajectory\n",
    "# %matplotlib notebook\n",
    "fig = plt.figure()\n",
    "xlim = ylim = zlim = (np.min(log.position), np.max(log.position))\n",
    "ax = fig.add_subplot(projection='3d', xlim=xlim, ylim=ylim, zlim=zlim)\n",
    "ax.set_xlabel('x')\n",
    "ax.set_ylabel('y')\n",
    "ax.set_zlabel('z')\n",
    "ax.plot(log.x, log.y, log.z)"
   ]
  },
  {
   "cell_type": "markdown",
   "id": "6ce80cdf",
   "metadata": {},
   "source": [
    "### Logging and Plotting"
   ]
  },
  {
   "cell_type": "code",
   "execution_count": null,
   "id": "349e6178",
   "metadata": {},
   "outputs": [],
   "source": [
    "def clear_file(file_path):\n",
    "    with open(file_path, 'w') as file:\n",
    "        pass"
   ]
  },
  {
   "cell_type": "code",
   "execution_count": null,
   "id": "5aeb41ac",
   "metadata": {},
   "outputs": [],
   "source": [
    "def logToFile(string_to_log, file_path):\n",
    "    with open(file_path, 'a') as file:\n",
    "        file.write(string_to_log + '\\n')"
   ]
  },
  {
   "cell_type": "code",
   "execution_count": null,
   "id": "c24d095c",
   "metadata": {},
   "outputs": [],
   "source": [
    "def printLogMotor(log):\n",
    "    element_data = {}\n",
    "\n",
    "    first_key = next(iter(log))\n",
    "    for index in range(len(log[first_key])):\n",
    "        element_data[index] = [data[index] for data in log.values()]\n",
    "\n",
    "    plt.figure(figsize=(12, 4))\n",
    "\n",
    "    # Plot the data for each element\n",
    "    for index, data in element_data.items():\n",
    "        plt.plot(list(log.keys()), data, label=f\"Motor {index+1}\")\n",
    "\n",
    "    # Set plot labels and title\n",
    "    plt.xlabel(\"Frames\")\n",
    "    plt.ylabel(\"Motor command\")\n",
    "    plt.title(\"Motor Commands over time\")\n",
    "\n",
    "    # Add legend\n",
    "    plt.legend(loc='upper left', fontsize='small')\n",
    "\n",
    "    # Display the plot\n",
    "    plt.show()"
   ]
  },
  {
   "cell_type": "code",
   "execution_count": null,
   "id": "e80b1ce4",
   "metadata": {},
   "outputs": [],
   "source": [
    "def printLogAccel(log):\n",
    "    element_data = {}\n",
    "\n",
    "    first_key = next(iter(log))\n",
    "    for index in range(len(log[first_key])):\n",
    "        element_data[index] = [data[index] for data in log.values()]\n",
    "\n",
    "    plt.figure(figsize=(12, 4))\n",
    "\n",
    "    # Plot the data for each element\n",
    "    for index, data in element_data.items():\n",
    "        plt.plot(list(action_log.keys()), data, label=str(chr(ord('x') + index)))\n",
    "\n",
    "    # Set plot labels and title\n",
    "    plt.xlabel(\"Frames\")\n",
    "    plt.ylabel(\"Acceleration\")\n",
    "    plt.title(\"Acceleration over Frames\")\n",
    "\n",
    "    # Add legend\n",
    "    plt.legend(loc='upper left', fontsize='small')\n",
    "\n",
    "    # Display the plot\n",
    "    plt.show()"
   ]
  },
  {
   "attachments": {},
   "cell_type": "markdown",
   "id": "b0341c49",
   "metadata": {},
   "source": [
    "### AP Simulation"
   ]
  },
  {
   "cell_type": "code",
   "execution_count": null,
   "id": "d6b7d16c",
   "metadata": {},
   "outputs": [],
   "source": [
    "import socket\n",
    "import time\n",
    "import json\n",
    "import struct\n",
    "from multirotor.coords import direction_cosine_matrix, body_to_inertial "
   ]
  },
  {
   "cell_type": "code",
   "execution_count": null,
   "id": "5b676582",
   "metadata": {},
   "outputs": [],
   "source": [
    "def changeToJSONString(curr_time, state, accel):\n",
    "    phys_time = curr_time\n",
    "    pos = state[0:3].tolist()\n",
    "    velo = state[3:6]\n",
    "    euler = state[6:9].tolist()\n",
    "    gyro = state[9:12].tolist()\n",
    "    accel = accel.tolist()\n",
    "    \n",
    "    gyro[0], gyro[1] = gyro[1], gyro[0]\n",
    "    euler[0], euler[1] = euler[1], euler[0]\n",
    "\n",
    "\n",
    "    #TODO: Change to NED coordinates\n",
    "    pos[2] = -1*pos[2]\n",
    "    pos[0], pos[1] = pos[1], pos[0]\n",
    "\n",
    "    dcm = direction_cosine_matrix(*euler)\n",
    "    v_inertial = body_to_inertial(velo, dcm).tolist()\n",
    "    v_inertial[2] = -1*v_inertial[2]\n",
    "    v_inertial[0], v_inertial[1] = v_inertial[1], v_inertial[0]\n",
    "\n",
    "    # Build JSON format\n",
    "    IMU_fmt = {\n",
    "        \"gyro\" : gyro,\n",
    "        \"accel_body\" : accel\n",
    "    }\n",
    "    JSON_fmt = {\n",
    "        \"timestamp\" : phys_time,\n",
    "        \"imu\" : IMU_fmt,\n",
    "        \"position\" : pos,\n",
    "        \"attitude\" : euler,\n",
    "        \"velocity\" : v_inertial\n",
    "    }\n",
    "\n",
    "    JSON_string = \"\\n\" + json.dumps(JSON_fmt,separators=(',', ':')) + \"\\n\"\n",
    "\n",
    "    logToFile(json.dumps(JSON_fmt,separators=(',', ':')), \"JSONLog.txt\")\n",
    "\n",
    "    return JSON_string\n"
   ]
  },
  {
   "cell_type": "code",
   "execution_count": null,
   "id": "c4b0cace",
   "metadata": {},
   "outputs": [],
   "source": [
    "def ap_sim(env, sock, steps=60_000, disturbance=None):\n",
    "    ap_log = DataLog(env.vehicle, other_vars=(\"propeller_speed\",))\n",
    "    command_logger = {}\n",
    "    accel_logger = {}\n",
    "    \n",
    "    disturb_force, disturb_torque = 0., 0\n",
    "\n",
    "    curr_time = 0  # Get the current time in seconds\n",
    "    RATE_HZ = 400\n",
    "    TIME_STEP = 1/RATE_HZ\n",
    "    last_frame = -1\n",
    "    frame_count = 0\n",
    "    frame_time = time.time()\n",
    "    print_frame_count = 500\n",
    "    try:\n",
    "        for i in range(0, steps):\n",
    "            try:   \n",
    "                data, addr = sock.recvfrom(100)\n",
    "                parse_format = 'HHI16H'\n",
    "                magic = 18458\n",
    "                if len(data) != struct.calcsize(parse_format):\n",
    "                    print(\"got packet of len %u, expected %u\" % (len(data), struct.calcsize(parse_format)))\n",
    "                    continue\n",
    "                unpacked_data = struct.unpack(parse_format, data)\n",
    "                if magic != unpacked_data[0]:\n",
    "                    print(\"Incorrect protocol magic %u should be %u\" % (unpacked_data[0], magic))\n",
    "                    continue\n",
    "\n",
    "                frame_rate = unpacked_data[1]\n",
    "                frame_count = unpacked_data[2]\n",
    "                pwm = np.array(unpacked_data[3:11])\n",
    "\n",
    "                string_action = \" \".join(str(element) for element in pwm.tolist())\n",
    "                logToFile(string_action, \"pwmLog.txt\")\n",
    "\n",
    "                if frame_count < last_frame:\n",
    "                    print('Reset controller')\n",
    "                elif frame_count == last_frame:\n",
    "                    print('Duplicate frame')\n",
    "                    continue\n",
    "                if frame_count != last_frame + 1 and last_frame != 0:\n",
    "                    print(\"Missed %u frames\" % (frame_count - last_frame))\n",
    "                    continue\n",
    "                last_frame = frame_count\n",
    "                \n",
    "                curr_time += TIME_STEP\n",
    "\n",
    "                if disturbance is not None:\n",
    "                    disturb_force, disturb_torque = disturbance(i, env.vehicle)\n",
    "\n",
    "                action = (pwm-1000)*0.575\n",
    "                string_action = \" \".join(str(element) for element in action.tolist())\n",
    "                logToFile(string_action, \"actionLog.txt\")\n",
    "\n",
    "                state, *_ = env.step(\n",
    "                    action, disturb_forces=disturb_force, disturb_torques=disturb_torque\n",
    "                )\n",
    "                accel = env.vehicle.dxdt_speeds(0, state, action, disturb_forces=disturb_force, disturb_torques=disturb_torque)[3:6]\n",
    "                JSON_string = changeToJSONString(curr_time, state, accel)\n",
    "\n",
    "                sock.sendto(bytes(JSON_string,\"ascii\"), addr)\n",
    "                \n",
    "                if action[0] != 0:\n",
    "                    ap_log.log(propeller_speed=[p.state for p in env.vehicle.propellers])\n",
    "                    command_logger[i] = action.tolist()\n",
    "                    accel_logger[i] = accel.tolist()\n",
    "\n",
    "                # Track frame rate\n",
    "                if frame_count % print_frame_count == 0:\n",
    "                    now = time.time()\n",
    "                    total_time = now - frame_time\n",
    "                    logToFile(\"%.2f fps T=%.3f dt=%.3f frame=%.1f rate=%d\" % (print_frame_count/total_time, curr_time, total_time, frame_count, RATE_HZ), \"frameLog.txt\")\n",
    "                    frame_time = now\n",
    "            except json.JSONDecodeError:\n",
    "                print(\"Invalid JSON data received\")\n",
    "            except socket.timeout:\n",
    "                continue\n",
    "            except KeyboardInterrupt:\n",
    "                sock.close()\n",
    "            except Exception as e:\n",
    "                if not isinstance(e, OSError):\n",
    "                    raise e\n",
    "                sock.close()\n",
    "                break\n",
    "    finally:\n",
    "        sock.close()\n",
    "    \n",
    "    ap_log.done_logging()   \n",
    "    \n",
    "    return ap_log, command_logger, accel_logger\n"
   ]
  },
  {
   "cell_type": "code",
   "execution_count": 72,
   "id": "db736d1e",
   "metadata": {},
   "outputs": [],
   "source": [
    "\n",
    "UDP_IP = \"127.0.0.1\"  # Listen on all available interfaces\n",
    "UDP_PORT = 9002\n",
    "\n",
    "sock = socket.socket(socket.AF_INET, socket.SOCK_DGRAM)\n",
    "sock.bind((UDP_IP, UDP_PORT))\n",
    "sock.settimeout(0.1)  # Set a timeout value of 1 second on the socket object\n",
    "\n",
    "clear_file(\"frameLog.txt\")\n",
    "clear_file(\"JSONLog.txt\")\n",
    "clear_file(\"pwmLog.txt\")\n",
    "env = SpeedsMultirotorEnv(vehicle=Multirotor(vp, sp)) # step() takes speed signals\n",
    "env.reset(np.zeros(12))\n",
    "ap_log, action_log, accel_log = ap_sim(env, sock, steps=60_000, disturbance=None)\n",
    "\n",
    "sock.close()"
   ]
  },
  {
   "cell_type": "code",
   "execution_count": 73,
   "id": "00e78566",
   "metadata": {},
   "outputs": [
    {
     "data": {
      "text/plain": [
       "{'pos': <Axes: title={'center': 'Position and Orientation'}, ylabel='Orientation /deg'>,\n",
       " 'vel': <Axes: title={'center': 'Velocities'}>}"
      ]
     },
     "execution_count": 73,
     "metadata": {},
     "output_type": "execute_result"
    },
    {
     "data": {
      "image/png": "[encoded data removed]",
      "text/plain": [
       "<Figure size 2100x1050 with 3 Axes>"
      ]
     },
     "metadata": {},
     "output_type": "display_data"
    }
   ],
   "source": [
    "plot_datalog(ap_log, plots=('pos', 'vel'))"
   ]
  },
  {
   "cell_type": "code",
   "execution_count": null,
   "id": "ad3372dd",
   "metadata": {},
   "outputs": [],
   "source": [
    "fig = plt.figure()\n",
    "xlim = ylim = zlim = (np.min(ap_log.position), np.max(ap_log.position))\n",
    "ax = fig.add_subplot(projection='3d', xlim=xlim, ylim=ylim, zlim=zlim)\n",
    "ax.set_xlabel('x')\n",
    "ax.set_ylabel('y')\n",
    "ax.set_zlabel('z')\n",
    "ax.view_init(20,150)\n",
    "ax.scatter(ap_log.x, ap_log.y, ap_log.z, c=ap_log.t)"
   ]
  },
  {
   "cell_type": "code",
   "execution_count": null,
   "id": "87eba562",
   "metadata": {},
   "outputs": [],
   "source": [
    "printLogAccel(accel_log)"
   ]
  },
  {
   "cell_type": "code",
   "execution_count": 74,
   "id": "235e75de",
   "metadata": {},
   "outputs": [
    {
     "data": {
      "image/png": "[encoded data removed]",
      "text/plain": [
       "<Figure size 1200x400 with 1 Axes>"
      ]
     },
     "metadata": {},
     "output_type": "display_data"
    }
   ],
   "source": [
    "printLogMotor(action_log)"
   ]
  },
  {
   "cell_type": "code",
   "execution_count": null,
   "id": "76a97b54",
   "metadata": {},
   "outputs": [],
   "source": [
    "plt.figure(figsize=(12, 4))\n",
    "plt.plot(ap_log.propeller_speed)\n",
    "plt.ylabel('Propeller Speeds rad/s')\n",
    "plt.title('Individual propeller speeds')\n",
    "plt.xlabel('Frames')"
   ]
  }
 ],
 "metadata": {
  "kernelspec": {
   "display_name": "Python 3 (ipykernel)",
   "language": "python",
   "name": "python3"
  },
  "language_info": {
   "codemirror_mode": {
    "name": "ipython",
    "version": 3
   },
   "file_extension": ".py",
   "mimetype": "text/x-python",
   "name": "python",
   "nbconvert_exporter": "python",
   "pygments_lexer": "ipython3",
   "version": "3.11.3"
  },
  "vscode": {
   "interpreter": {
    "hash": "553746a2ac893171982ffcb8d83cc0ca836885831c1ad096aed2033dbb6014ba"
   }
  }
 },
 "nbformat": 4,
 "nbformat_minor": 5
}
